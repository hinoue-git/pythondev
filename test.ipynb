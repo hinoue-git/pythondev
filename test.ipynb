{
 "cells": [
  {
   "cell_type": "code",
   "execution_count": 19,
   "metadata": {},
   "outputs": [
    {
     "data": {
      "text/plain": [
       "numpy.ndarray"
      ]
     },
     "execution_count": 19,
     "metadata": {},
     "output_type": "execute_result"
    }
   ],
   "source": [
    "import pandas as pd\n",
    "\n",
    "df = pd.read_csv(\"./sample_data/california_housing_train.csv\")\n",
    "#df.head()\n",
    "#df.tail()\n",
    "#df.iloc[1, :]\n",
    "#df.iloc[0:3, :]\n",
    "#df[\"population\"]\n",
    "#df[[\"total_rooms\", \"households\", \"median_income\"]]\n",
    "#df.query(\"households < 30\")\n",
    "#df[\"population\"] <= 1000\n",
    "#df.query(\"population > 100 and households < 30\")\n",
    "#df.describe()\n",
    "#df.corr()\n",
    "#pd.plotting.scatter_matrix(df[['population', 'median_income', 'households']])\n",
    "#df[['households', 'population']] = df[['households', 'population']].astype(int)\n",
    "#df[['households', 'population']]\n",
    "\n",
    "#df[\"median_income\"] = df.median_income.apply(round)\n",
    "#df[[\"median_income\"]]\n",
    "\n",
    "#df[\"households_per_capita\"] = df.households / df.population\n",
    "#df[[\"households_per_capita\"]]\n",
    "\n",
    "df.values\n",
    "type(df.values)\n"
   ]
  }
 ],
 "metadata": {
  "kernelspec": {
   "display_name": "Python 3",
   "language": "python",
   "name": "python3"
  },
  "language_info": {
   "codemirror_mode": {
    "name": "ipython",
    "version": 3
   },
   "file_extension": ".py",
   "mimetype": "text/x-python",
   "name": "python",
   "nbconvert_exporter": "python",
   "pygments_lexer": "ipython3",
   "version": "3.12.10"
  }
 },
 "nbformat": 4,
 "nbformat_minor": 2
}
