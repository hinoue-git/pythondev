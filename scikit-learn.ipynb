{
 "cells": [
  {
   "cell_type": "code",
   "execution_count": null,
   "metadata": {},
   "outputs": [],
   "source": []
  },
  {
   "cell_type": "code",
   "execution_count": 35,
   "metadata": {},
   "outputs": [
    {
     "name": "stdout",
     "output_type": "stream",
     "text": [
      "(1797, 64)\n",
      "(1797,)\n",
      "[0 1 2 3 4 5 6 7 8 9 0 1 2 3 4 5 6 7 8 9 0 1 2 3 4 5 6 7 8 9 0 9 5 5 6 5 0\n",
      " 9 8 9 8 4 1 7 7 3 5 1 0 0]\n",
      "[[58  0  0  0  0  0  1  0  0  0]\n",
      " [ 0 53  0  0  0  0  1  0  2  5]\n",
      " [ 1  0 59  0  0  0  0  0  0  0]\n",
      " [ 0  0  0 52  0  1  0  2  7  0]\n",
      " [ 1  0  0  0 57  0  0  0  1  2]\n",
      " [ 0  0  0  0  0 58  1  0  0  0]\n",
      " [ 0  1  0  0  0  0 60  0  0  0]\n",
      " [ 0  0  0  0  0  0  0 61  0  0]\n",
      " [ 0  1  0  2  1  0  0  1 50  0]\n",
      " [ 0  0  0  1  0  2  0  1  1 53]]\n",
      "              precision    recall  f1-score   support\n",
      "\n",
      "           0       0.97      0.98      0.97        59\n",
      "           1       0.96      0.87      0.91        61\n",
      "           2       1.00      0.98      0.99        60\n",
      "           3       0.95      0.84      0.89        62\n",
      "           4       0.98      0.93      0.96        61\n",
      "           5       0.95      0.98      0.97        59\n",
      "           6       0.95      0.98      0.97        61\n",
      "           7       0.94      1.00      0.97        61\n",
      "           8       0.82      0.91      0.86        55\n",
      "           9       0.88      0.91      0.90        58\n",
      "\n",
      "    accuracy                           0.94       597\n",
      "   macro avg       0.94      0.94      0.94       597\n",
      "weighted avg       0.94      0.94      0.94       597\n",
      "\n"
     ]
    },
    {
     "data": {
      "image/png": "[encoded data removed]",
      "text/plain": [
       "<Figure size 640x480 with 10 Axes>"
      ]
     },
     "metadata": {},
     "output_type": "display_data"
    }
   ],
   "source": [
    "from sklearn import datasets\n",
    "digits = datasets.load_digits()\n",
    "#print(digits.DESCR)\n",
    "\n",
    "X = digits.data\n",
    "y = digits.target\n",
    "\n",
    "print(X.shape)\n",
    "print(y.shape)\n",
    "\n",
    "#print(X[0])\n",
    "print(y[0:50])\n",
    "\n",
    "import matplotlib.pyplot as plt\n",
    "fig = plt.figure()\n",
    "\n",
    "for i, x in enumerate(X[0:10], 0):\n",
    "    sp = fig.add_subplot(2, 5, (i + 1))\n",
    "    sp.imshow(x.reshape(8, 8), cmap = \"gray\")\n",
    "\n",
    "\n",
    "X_train = X[:1200]\n",
    "X_test  = X[1200:]\n",
    "y_train = y[:1200]\n",
    "y_test  = y[1200:]\n",
    "\n",
    "from sklearn.svm import SVC\n",
    "classifier = SVC(kernel=\"linear\")\n",
    "classifier.fit(X_train, y_train)\n",
    "\n",
    "y_pred = classifier.predict(X_test)\n",
    "\n",
    "from sklearn import metrics\n",
    "print(metrics.confusion_matrix(y_test, y_pred))\n",
    "\n",
    "print(metrics.classification_report(y_test, y_pred))\n",
    "\n"
   ]
  }
 ],
 "metadata": {
  "kernelspec": {
   "display_name": "Python 3",
   "language": "python",
   "name": "python3"
  },
  "language_info": {
   "codemirror_mode": {
    "name": "ipython",
    "version": 3
   },
   "file_extension": ".py",
   "mimetype": "text/x-python",
   "name": "python",
   "nbconvert_exporter": "python",
   "pygments_lexer": "ipython3",
   "version": "3.12.10"
  }
 },
 "nbformat": 4,
 "nbformat_minor": 2
}
