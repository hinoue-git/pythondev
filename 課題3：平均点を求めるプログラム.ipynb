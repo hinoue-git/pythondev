{
 "cells": [
  {
   "cell_type": "code",
   "execution_count": 12,
   "metadata": {},
   "outputs": [
    {
     "name": "stdout",
     "output_type": "stream",
     "text": [
      "10人のテストの平均点は73.4点です\n"
     ]
    }
   ],
   "source": [
    "i = 0\n",
    "total_score = 0\n",
    "while True:\n",
    "    score = input(\"点数を入力してください：\")\n",
    "    score = int(score)\n",
    "    if score == -1:\n",
    "        break\n",
    "    i += 1\n",
    "    total_score += score\n",
    "    average = round(total_score / i, 1)\n",
    "print(f\"{i}人のテストの平均点は{average}点です\")\n",
    "\n"
   ]
  },
  {
   "cell_type": "markdown",
   "metadata": {},
   "source": []
  }
 ],
 "metadata": {
  "kernelspec": {
   "display_name": "Python 3",
   "language": "python",
   "name": "python3"
  },
  "language_info": {
   "codemirror_mode": {
    "name": "ipython",
    "version": 3
   },
   "file_extension": ".py",
   "mimetype": "text/x-python",
   "name": "python",
   "nbconvert_exporter": "python",
   "pygments_lexer": "ipython3",
   "version": "3.12.10"
  }
 },
 "nbformat": 4,
 "nbformat_minor": 2
}
