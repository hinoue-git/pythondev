{
  "cells": [
    {
      "cell_type": "markdown",
      "id": "9lbPwfVSk0Ee",
      "metadata": {
        "id": "9lbPwfVSk0Ee"
      },
      "source": [
        "## 正規表現の簡単な使い方\n"
      ]
    },
    {
      "cell_type": "markdown",
      "id": "r4cxN3TB6e1n",
      "metadata": {
        "id": "r4cxN3TB6e1n"
      },
      "source": [
        "### 検索用データのダウンロード"
      ]
    },
    {
      "cell_type": "code",
      "execution_count": null,
      "id": "UZZFMS5n1OLL",
      "metadata": {
        "colab": {
          "base_uri": "https://localhost:8080/"
        },
        "id": "UZZFMS5n1OLL",
        "outputId": "a097dda4-ca11-45b8-c699-51b893262af3"
      },
      "outputs": [],
      "source": [
        "with open(\"./dummy_txt/dummy.txt\", encoding=\"utf-8\") as f:\n",
        "    text = f.read()\n",
        "\n",
        "print(text)"
      ]
    },
    {
      "cell_type": "markdown",
      "id": "hGESLlSWlBo-",
      "metadata": {
        "id": "hGESLlSWlBo-"
      },
      "source": [
        "### 「任意の1文字（この1文字は何でも良い）」という指定"
      ]
    },
    {
      "cell_type": "code",
      "execution_count": null,
      "id": "BdMTPrePNLRB",
      "metadata": {
        "colab": {
          "base_uri": "https://localhost:8080/"
        },
        "id": "BdMTPrePNLRB",
        "outputId": "2b219671-b4c3-412b-fda7-ba089da3accc"
      },
      "outputs": [],
      "source": [
        "import re\n",
        "re.findall(r\".\", text)"
      ]
    },
    {
      "cell_type": "code",
      "execution_count": null,
      "id": "Ttan1P-a11Un",
      "metadata": {
        "colab": {
          "base_uri": "https://localhost:8080/"
        },
        "id": "Ttan1P-a11Un",
        "outputId": "6a3a9e5f-ca75-40cc-fd25-ae66731f05c3"
      },
      "outputs": [],
      "source": [
        "re.findall(r\"山.県\", text)"
      ]
    },
    {
      "cell_type": "markdown",
      "id": "RqLRIu7y8LA0",
      "metadata": {
        "id": "RqLRIu7y8LA0"
      },
      "source": [
        "### ドットは連続で入力可能"
      ]
    },
    {
      "cell_type": "code",
      "execution_count": null,
      "id": "91AORSvA2LLl",
      "metadata": {
        "colab": {
          "base_uri": "https://localhost:8080/"
        },
        "id": "91AORSvA2LLl",
        "outputId": "e1a940ba-b8ff-4e9b-a535-e0a27cc4b329"
      },
      "outputs": [],
      "source": [
        "re.findall(r\"和..県\", text)"
      ]
    },
    {
      "cell_type": "markdown",
      "id": "08e04ee1",
      "metadata": {
        "id": "08e04ee1"
      },
      "source": [
        "### 「行頭と行末にある文字」という指定"
      ]
    },
    {
      "cell_type": "markdown",
      "id": "9Mcf1v2qFXu4",
      "metadata": {
        "id": "9Mcf1v2qFXu4"
      },
      "source": [
        "#### 行頭の場合"
      ]
    },
    {
      "cell_type": "code",
      "execution_count": null,
      "id": "ukPGvtjr2WQz",
      "metadata": {
        "colab": {
          "base_uri": "https://localhost:8080/"
        },
        "id": "ukPGvtjr2WQz",
        "outputId": "ff85fe5c-1c37-43f9-a76a-1ea7f2a78285"
      },
      "outputs": [],
      "source": [
        "re.findall(r\"福.\", text)"
      ]
    },
    {
      "cell_type": "code",
      "execution_count": null,
      "id": "o1LsPDUI2l_a",
      "metadata": {
        "colab": {
          "base_uri": "https://localhost:8080/"
        },
        "id": "o1LsPDUI2l_a",
        "outputId": "ecd2127e-9a9f-454e-c80e-57ba6d4e0af0"
      },
      "outputs": [],
      "source": [
        "re.findall(r\"^福.\", text, re.MULTILINE)"
      ]
    },
    {
      "cell_type": "markdown",
      "id": "33593812",
      "metadata": {
        "id": "33593812"
      },
      "source": [
        "#### 行末の場合"
      ]
    },
    {
      "cell_type": "code",
      "execution_count": null,
      "id": "RDnKA_Cs4Xjb",
      "metadata": {
        "colab": {
          "base_uri": "https://localhost:8080/"
        },
        "id": "RDnKA_Cs4Xjb",
        "outputId": "cfdc396b-171a-460a-aa82-f5c23da46e96"
      },
      "outputs": [],
      "source": [
        "re.findall(r\"5976$\", text, re.MULTILINE)"
      ]
    },
    {
      "cell_type": "markdown",
      "id": "ca8e22b2",
      "metadata": {
        "id": "ca8e22b2"
      },
      "source": [
        "### 「任意の○文字」という指定"
      ]
    },
    {
      "cell_type": "markdown",
      "id": "E99ennONFp-l",
      "metadata": {
        "id": "E99ennONFp-l"
      },
      "source": [
        "#### 文字数が固定の場合"
      ]
    },
    {
      "cell_type": "code",
      "execution_count": null,
      "id": "b6cE5a534gad",
      "metadata": {
        "colab": {
          "base_uri": "https://localhost:8080/"
        },
        "id": "b6cE5a534gad",
        "outputId": "2d9162b3-235d-4336-97e4-af161a3496b4"
      },
      "outputs": [],
      "source": [
        "re.findall(r\"和.{2}県\", text, re.MULTILINE)"
      ]
    },
    {
      "cell_type": "markdown",
      "id": "83d203c4",
      "metadata": {
        "id": "83d203c4"
      },
      "source": [
        "#### 文字数が不定の場合"
      ]
    },
    {
      "cell_type": "code",
      "execution_count": null,
      "id": "Qi4MnYXn4km1",
      "metadata": {
        "colab": {
          "base_uri": "https://localhost:8080/"
        },
        "id": "Qi4MnYXn4km1",
        "outputId": "0a063f36-ae68-45a5-cb49-685a759b0b3c"
      },
      "outputs": [],
      "source": [
        "re.findall(r\"^北.? .{2}\", text, re.MULTILINE)"
      ]
    },
    {
      "cell_type": "markdown",
      "id": "abecdb5a",
      "metadata": {
        "id": "abecdb5a"
      },
      "source": [
        "### 「この1文字が指定した文字のどれか」という指定"
      ]
    },
    {
      "cell_type": "code",
      "execution_count": null,
      "id": "9wbxnhSd4qFl",
      "metadata": {
        "colab": {
          "base_uri": "https://localhost:8080/"
        },
        "id": "9wbxnhSd4qFl",
        "outputId": "bba227a6-26e2-41bb-e70c-40e18e607730"
      },
      "outputs": [],
      "source": [
        "re.findall(r\"[0-9]{3}-[0-9]{3}-[0-9]{4}\", text)"
      ]
    },
    {
      "cell_type": "markdown",
      "id": "3b94e197",
      "metadata": {
        "id": "3b94e197"
      },
      "source": [
        "### 「この1文字が指定した文字以外のどれか」という指定"
      ]
    },
    {
      "cell_type": "code",
      "execution_count": null,
      "id": "RlDj-Ash6-UJ",
      "metadata": {
        "colab": {
          "base_uri": "https://localhost:8080/"
        },
        "id": "RlDj-Ash6-UJ",
        "outputId": "f0addc53-ee30-4932-d60a-d80b7967a843"
      },
      "outputs": [],
      "source": [
        "re.findall(r\"[^a-zA-Z0-9]\", text)"
      ]
    },
    {
      "cell_type": "markdown",
      "id": "95fc039e",
      "metadata": {
        "id": "95fc039e"
      },
      "source": [
        "### 「指定した単語のどれか」という指定"
      ]
    },
    {
      "cell_type": "code",
      "execution_count": null,
      "id": "oYzPhE7b7H1E",
      "metadata": {
        "colab": {
          "base_uri": "https://localhost:8080/"
        },
        "id": "oYzPhE7b7H1E",
        "outputId": "bd29c772-0a9f-4da8-a2b7-69bfdd904cac"
      },
      "outputs": [],
      "source": [
        "re.findall(r\"(埼玉|新潟|香川)県\", text, re.MULTILINE)"
      ]
    },
    {
      "cell_type": "markdown",
      "id": "tWjCIREX8kai",
      "metadata": {
        "id": "tWjCIREX8kai"
      },
      "source": [
        "## 正規表現の応用"
      ]
    },
    {
      "cell_type": "markdown",
      "id": "A96txWbEnDWe",
      "metadata": {
        "id": "A96txWbEnDWe"
      },
      "source": [
        "### 複数のメタキャラクタの利用"
      ]
    },
    {
      "cell_type": "code",
      "execution_count": 39,
      "id": "goD-4UD880nA",
      "metadata": {
        "id": "goD-4UD880nA"
      },
      "outputs": [],
      "source": [
        "dates = \"\"\"\\\n",
        "昭和53年10月31日\n",
        "平成10年06月10日\n",
        "令和02年01月21日\n",
        "2020年07月24日\n",
        "令和元年05月03日\n",
        "2019年4月1日\n",
        "'19年09月14日\n",
        "\"\"\""
      ]
    },
    {
      "cell_type": "code",
      "execution_count": null,
      "id": "DWEVNDgV7P_s",
      "metadata": {
        "colab": {
          "base_uri": "https://localhost:8080/"
        },
        "id": "DWEVNDgV7P_s",
        "outputId": "01386faf-a917-4084-8dad-26dd42943a0c"
      },
      "outputs": [],
      "source": [
        "re.findall(r\"..\\d\\d年\\d\\d月\\d\\d日\", dates)"
      ]
    },
    {
      "cell_type": "markdown",
      "id": "25c29840",
      "metadata": {
        "id": "25c29840"
      },
      "source": [
        "### 任意の長さの文字列を表現"
      ]
    },
    {
      "cell_type": "code",
      "execution_count": null,
      "id": "qfobvU_R7qzY",
      "metadata": {
        "colab": {
          "base_uri": "https://localhost:8080/"
        },
        "id": "qfobvU_R7qzY",
        "outputId": "32202925-2414-4d81-cb15-ba5344a1ec2d"
      },
      "outputs": [],
      "source": [
        "re.findall(r\".+\\d*年\\d+月\\d+日\", dates)"
      ]
    },
    {
      "cell_type": "markdown",
      "id": "33638741",
      "metadata": {
        "id": "33638741"
      },
      "source": [
        "### 固定の長さの文字列を表現"
      ]
    },
    {
      "cell_type": "code",
      "execution_count": null,
      "id": "Chz9PrrD9pxa",
      "metadata": {
        "colab": {
          "base_uri": "https://localhost:8080/"
        },
        "id": "Chz9PrrD9pxa",
        "outputId": "44f5242d-0772-464a-c21e-ae2229306a79"
      },
      "outputs": [],
      "source": [
        "re.findall(r\"\\d{4}年\\d{1,2}月\\d{1,2}日\", dates)"
      ]
    },
    {
      "cell_type": "markdown",
      "id": "e3e8267f",
      "metadata": {
        "id": "e3e8267f"
      },
      "source": [
        "### 先読み／後読み"
      ]
    },
    {
      "cell_type": "markdown",
      "id": "mLUYcGpLUQNb",
      "metadata": {
        "id": "mLUYcGpLUQNb"
      },
      "source": [
        "#### 先読み（肯定先読み）"
      ]
    },
    {
      "cell_type": "code",
      "execution_count": null,
      "id": "dO-pTtbW-GXQ",
      "metadata": {
        "colab": {
          "base_uri": "https://localhost:8080/"
        },
        "id": "dO-pTtbW-GXQ",
        "outputId": "cb8e1a05-f6ea-4b0d-8703-e7b3092d61b7"
      },
      "outputs": [],
      "source": [
        "re.findall(r\"山(?=形)\", text)"
      ]
    },
    {
      "cell_type": "markdown",
      "id": "253593e5",
      "metadata": {
        "id": "253593e5"
      },
      "source": [
        "#### 否定先読み"
      ]
    },
    {
      "cell_type": "code",
      "execution_count": null,
      "id": "f9TbN_md-o9l",
      "metadata": {
        "colab": {
          "base_uri": "https://localhost:8080/"
        },
        "id": "f9TbN_md-o9l",
        "outputId": "81128f28-8fca-477c-f392-127b7af5bdbc"
      },
      "outputs": [],
      "source": [
        "re.findall(r\"山(?!形)\", text)"
      ]
    },
    {
      "cell_type": "markdown",
      "id": "a7802817",
      "metadata": {
        "id": "a7802817"
      },
      "source": [
        "#### 後読み（肯定後読み）"
      ]
    },
    {
      "cell_type": "code",
      "execution_count": null,
      "id": "v1c5n9od-v4O",
      "metadata": {
        "colab": {
          "base_uri": "https://localhost:8080/"
        },
        "id": "v1c5n9od-v4O",
        "outputId": "e957f815-6533-438e-ad00-1378083d8ed2"
      },
      "outputs": [],
      "source": [
        "re.findall(r\"(?<=東)京都\", text)"
      ]
    },
    {
      "cell_type": "markdown",
      "id": "a7c7743c",
      "metadata": {
        "id": "a7c7743c"
      },
      "source": [
        "#### 否定後読み"
      ]
    },
    {
      "cell_type": "code",
      "execution_count": null,
      "id": "GU65tLH-_2-j",
      "metadata": {
        "colab": {
          "base_uri": "https://localhost:8080/"
        },
        "id": "GU65tLH-_2-j",
        "outputId": "581401a5-30a0-4f91-ef5b-38f66c1ea59f"
      },
      "outputs": [],
      "source": [
        "re.findall(r\"(?<!東)京都\", text)"
      ]
    },
    {
      "cell_type": "markdown",
      "id": "7847e721",
      "metadata": {
        "id": "7847e721"
      },
      "source": [
        "#### 先読み／後読みの使いどころ"
      ]
    },
    {
      "cell_type": "code",
      "execution_count": null,
      "id": "E7G5r6xX_6NE",
      "metadata": {
        "colab": {
          "base_uri": "https://localhost:8080/"
        },
        "id": "E7G5r6xX_6NE",
        "outputId": "f471be17-3aef-4b97-d5fb-69c708f954b5"
      },
      "outputs": [],
      "source": [
        "re.findall(r\"福(?=岡)\", text)"
      ]
    },
    {
      "cell_type": "code",
      "execution_count": null,
      "id": "do06zJAFX2P4",
      "metadata": {
        "colab": {
          "base_uri": "https://localhost:8080/"
        },
        "id": "do06zJAFX2P4",
        "outputId": "23b1cf5c-459c-4ef8-b96e-d1116e94f40d"
      },
      "outputs": [],
      "source": [
        "text_replaced = re.sub(r\"福(?=岡)\", r\"静\", text)\n",
        "print(text_replaced)"
      ]
    },
    {
      "cell_type": "markdown",
      "id": "2a7afbde",
      "metadata": {
        "id": "2a7afbde"
      },
      "source": [
        "### 部分置換"
      ]
    },
    {
      "cell_type": "code",
      "execution_count": null,
      "id": "aMoF1dk-_-Ah",
      "metadata": {
        "colab": {
          "base_uri": "https://localhost:8080/"
        },
        "id": "aMoF1dk-_-Ah",
        "outputId": "23bf6689-9a21-4a42-9e5b-687ef693bda2"
      },
      "outputs": [],
      "source": [
        "re.findall(r\"(埼玉|新潟|香川)県\", text)"
      ]
    },
    {
      "cell_type": "code",
      "execution_count": null,
      "id": "DgcQ_XNsAa-r",
      "metadata": {
        "colab": {
          "base_uri": "https://localhost:8080/"
        },
        "id": "DgcQ_XNsAa-r",
        "outputId": "5cdf0e40-40ee-482c-a9c7-485859bcfd62"
      },
      "outputs": [],
      "source": [
        "text_replaced = re.sub(r\"(埼玉|新潟|香川)県\", r\"\\1都\", text)\n",
        "print(text_replaced)"
      ]
    },
    {
      "cell_type": "markdown",
      "id": "wd14zt0rBtNL",
      "metadata": {
        "id": "wd14zt0rBtNL"
      },
      "source": [
        "## 正規表現で入力値チェックを行なう"
      ]
    },
    {
      "cell_type": "code",
      "execution_count": null,
      "id": "33458fe2",
      "metadata": {
        "colab": {
          "base_uri": "https://localhost:8080/"
        },
        "id": "33458fe2",
        "outputId": "414196df-0286-424c-aa83-ec763510753c"
      },
      "outputs": [],
      "source": [
        "import re\n",
        "\n",
        "rep = r'(?=.*\\d)(?=.*[a-z])(?=.*[A-Z]).{8,}'\n",
        "password1 = 'password'\n",
        "password2 = 'pass'\n",
        "password3 = 'Passw0rd'\n",
        "\n",
        "print(f'{password1}：',end='')\n",
        "if re.match(rep, password1) :\n",
        "    print('パターンに合致しています。')\n",
        "else:\n",
        "    print('パターンに合致していません。')\n",
        "\n",
        "print(f'{password2}：',end='')\n",
        "if re.match(rep, password2) :\n",
        "    print('パターンに合致しています。')\n",
        "else:\n",
        "    print('パターンに合致していません。')\n",
        "\n",
        "print(f'{password3}：',end='')\n",
        "if re.match(rep, password3) :\n",
        "    print('パターンに合致しています。')\n",
        "else:\n",
        "    print('パターンに合致していません。')"
      ]
    },
    {
      "cell_type": "code",
      "execution_count": null,
      "id": "4baba9ce",
      "metadata": {},
      "outputs": [],
      "source": []
    }
  ],
  "metadata": {
    "colab": {
      "provenance": []
    },
    "kernelspec": {
      "display_name": ".venv",
      "language": "python",
      "name": "python3"
    },
    "language_info": {
      "codemirror_mode": {
        "name": "ipython",
        "version": 3
      },
      "file_extension": ".py",
      "mimetype": "text/x-python",
      "name": "python",
      "nbconvert_exporter": "python",
      "pygments_lexer": "ipython3",
      "version": "3.12.7"
    }
  },
  "nbformat": 4,
  "nbformat_minor": 5
}
