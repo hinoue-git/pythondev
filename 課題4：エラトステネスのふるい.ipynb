{
 "cells": [
  {
   "cell_type": "code",
   "execution_count": 10,
   "metadata": {},
   "outputs": [
    {
     "name": "stdout",
     "output_type": "stream",
     "text": [
      "2\n",
      "3\n",
      "5\n",
      "7\n",
      "11\n",
      "13\n",
      "17\n",
      "19\n",
      "23\n",
      "29\n",
      "31\n",
      "37\n",
      "41\n",
      "43\n",
      "47\n",
      "53\n",
      "59\n",
      "61\n",
      "67\n",
      "71\n",
      "73\n",
      "79\n",
      "83\n",
      "89\n",
      "97\n"
     ]
    }
   ],
   "source": [
    "def check_prime_number(number):\n",
    "    if number == 1:\n",
    "        return False #1は素数ではない\n",
    "\n",
    "    if number == 2:\n",
    "        return True #2は素数\n",
    "    if number % 2 == 0:\n",
    "        return False #2を除いた2の倍数は素数ではない\n",
    "\n",
    "    if number == 3:\n",
    "        return True #3は素数\n",
    "    if number % 3 == 0:\n",
    "        return False #3を除いた3の倍数は素数ではない\n",
    "\n",
    "    if number == 5:\n",
    "        return True #5は素数\n",
    "    if number % 5 == 0:\n",
    "        return False #5を除いた5の倍数は素数ではない\n",
    "    \n",
    "    if number == 7:\n",
    "        return True #7は素数\n",
    "    if number % 7 == 0:\n",
    "        return False #7を除いた7の倍数は素数ではない\n",
    "    \n",
    "    return True\n",
    "\n",
    "for i in range(1, 101):\n",
    "    if check_prime_number(i):\n",
    "        print(i)"
   ]
  }
 ],
 "metadata": {
  "kernelspec": {
   "display_name": "Python 3",
   "language": "python",
   "name": "python3"
  },
  "language_info": {
   "codemirror_mode": {
    "name": "ipython",
    "version": 3
   },
   "file_extension": ".py",
   "mimetype": "text/x-python",
   "name": "python",
   "nbconvert_exporter": "python",
   "pygments_lexer": "ipython3",
   "version": "3.12.10"
  }
 },
 "nbformat": 4,
 "nbformat_minor": 2
}
