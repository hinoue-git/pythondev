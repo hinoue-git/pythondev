{
 "cells": [
  {
   "cell_type": "code",
   "execution_count": 18,
   "metadata": {},
   "outputs": [
    {
     "name": "stdout",
     "output_type": "stream",
     "text": [
      "入力した英単語：['orage', 'pine']\n",
      "aが1個ありました\n",
      "eが2個ありました\n",
      "gが1個ありました\n",
      "iが1個ありました\n",
      "nが1個ありました\n",
      "oが1個ありました\n",
      "pが1個ありました\n",
      "rが1個ありました\n"
     ]
    }
   ],
   "source": [
    "import string\n",
    "\n",
    "def get_word_alphabet():\n",
    "    word_list = []\n",
    "    # アルファベットのカウントを0で初期化\n",
    "    alphabet = dict.fromkeys(list(string.ascii_lowercase), 0)\n",
    "\n",
    "    while True:\n",
    "        word = input(\"英単語を入力して下さい (終了するにはそのままEnterを押してください): \")\n",
    "\n",
    "        # 未入力でリターンキーでループを終了\n",
    "        if word == \"\":\n",
    "            break\n",
    "\n",
    "        # アルファベットのみの入力かを確認\n",
    "        if word.isalpha():\n",
    "            # アルファベット各文字の出現回数をカウント\n",
    "            for letter in word:\n",
    "                alphabet[letter] += 1\n",
    "            # 単語をリストに追加\n",
    "            word_list.append(word)\n",
    "        else:\n",
    "            print(\"アルファベット以外は受け付けません。\")\n",
    "    \n",
    "    return word_list, alphabet\n",
    "\n",
    "\n",
    "# 関数を呼び出して結果を取得\n",
    "words, alphabet = get_word_alphabet()\n",
    "# 単語リストをソート\n",
    "words.sort()\n",
    "print(f\"入力した英単語：{words}\")\n",
    "\n",
    "# アルファベットの使用回数を出力\n",
    "for letter, count in alphabet.items():\n",
    "    if count > 0:\n",
    "        print(f\"{letter}が{count}個ありました\")\n"
   ]
  }
 ],
 "metadata": {
  "kernelspec": {
   "display_name": "Python 3",
   "language": "python",
   "name": "python3"
  },
  "language_info": {
   "codemirror_mode": {
    "name": "ipython",
    "version": 3
   },
   "file_extension": ".py",
   "mimetype": "text/x-python",
   "name": "python",
   "nbconvert_exporter": "python",
   "pygments_lexer": "ipython3",
   "version": "3.12.10"
  }
 },
 "nbformat": 4,
 "nbformat_minor": 2
}
