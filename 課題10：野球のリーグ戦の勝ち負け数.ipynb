{
 "cells": [
  {
   "cell_type": "code",
   "execution_count": 60,
   "metadata": {},
   "outputs": [],
   "source": [
    "class Baseball_Team:\n",
    "    # property\n",
    "\n",
    "    def __init__(self, name, win, lose, draw):\n",
    "        self.name = name\n",
    "        self.win = win\n",
    "        self.lose = lose\n",
    "        self.draw = draw\n",
    "    \n",
    "    def calc_win_rate(self):\n",
    "        return self.win / (self.win + self.lose)\n",
    "    \n",
    "    def show_team_result(self):\n",
    "        win_rate = self.calc_win_rate()\n",
    "        print(f\"{self.name:<8} {self.win:>4} {self.lose:>4} {self.draw:>4} {win_rate:.3f}\")\n"
   ]
  },
  {
   "cell_type": "code",
   "execution_count": 61,
   "metadata": {},
   "outputs": [
    {
     "name": "stdout",
     "output_type": "stream",
     "text": [
      "team      win lose draw rate\n",
      "Archers    77   64    2 0.546\n",
      "Meteors    71   69    3 0.507\n",
      "Cheetahs   69   68    6 0.504\n",
      "Sharks     70   70    3 0.500\n",
      "Pythons    68   73    2 0.482\n",
      "Owls       59   82    2 0.418\n"
     ]
    }
   ],
   "source": [
    "#headerを表示\n",
    "print(f\"{'team':<8} {'win':>4} {'lose':>4} {'draw':>4} {'rate'}\")\n",
    "\n",
    "#インスタンスを6チーム分生成し、勝敗情報を表示\n",
    "archers = Baseball_Team(name=\"Archers\", win=77, lose=64, draw=2)\n",
    "archers.show_team_result()\n",
    "meteors = Baseball_Team(name=\"Meteors\", win=71, lose=69, draw=3)\n",
    "meteors.show_team_result()\n",
    "cheetahs = Baseball_Team(name=\"Cheetahs\", win=69, lose=68, draw=6)\n",
    "cheetahs.show_team_result()\n",
    "sharks = Baseball_Team(name=\"Sharks\", win=70, lose=70, draw=3)\n",
    "sharks.show_team_result()\n",
    "pythons = Baseball_Team(name=\"Pythons\", win=68, lose=73, draw=2)\n",
    "pythons.show_team_result()\n",
    "owls = Baseball_Team(name=\"Owls\", win=59, lose=82, draw=2)\n",
    "owls.show_team_result()\n",
    "\n"
   ]
  }
 ],
 "metadata": {
  "kernelspec": {
   "display_name": "Python 3",
   "language": "python",
   "name": "python3"
  },
  "language_info": {
   "codemirror_mode": {
    "name": "ipython",
    "version": 3
   },
   "file_extension": ".py",
   "mimetype": "text/x-python",
   "name": "python",
   "nbconvert_exporter": "python",
   "pygments_lexer": "ipython3",
   "version": "3.12.10"
  }
 },
 "nbformat": 4,
 "nbformat_minor": 2
}
