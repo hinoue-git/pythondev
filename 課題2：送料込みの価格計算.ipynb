{
 "cells": [
  {
   "cell_type": "code",
   "execution_count": 16,
   "metadata": {},
   "outputs": [
    {
     "name": "stdout",
     "output_type": "stream",
     "text": [
      "送料として350円かかります\n",
      "送料込みの価格は2330円です。\n"
     ]
    }
   ],
   "source": [
    "#税率\n",
    "TAX_RATE = 0.1\n",
    "#送料\n",
    "SHIPPING_FEE = 350\n",
    "#送料が無料の金額閾値\n",
    "FREE_SHIPPING_AMOUNT = 2000\n",
    "\n",
    "\n",
    "def get_price():\n",
    "    while True:\n",
    "        try:\n",
    "            price = input(\"税抜価格を入力してください：\")\n",
    "            return int(price)\n",
    "        except ValueError:\n",
    "            print(\"数値以外が入力されました。\")\n",
    "\n",
    "\n",
    "def calculate_price_with_tax(price, tax_rate):\n",
    "    return price + (price * tax_rate)\n",
    "\n",
    "\n",
    "def calculate_total_price_with_shipping(include_tax):\n",
    "    if include_tax >= FREE_SHIPPING_AMOUNT:\n",
    "        print(\"送料は無料です\")\n",
    "        return round(include_tax)\n",
    "    else:\n",
    "        print(f\"送料として{SHIPPING_FEE}円かかります\")\n",
    "        return round(include_tax + SHIPPING_FEE)\n",
    "\n",
    "\n",
    "price = get_price()\n",
    "include_tax = calculate_price_with_tax(price, TAX_RATE)\n",
    "total = calculate_total_price_with_shipping(include_tax)\n",
    "print(f\"送料込みの価格は{total}円です。\")"
   ]
  }
 ],
 "metadata": {
  "kernelspec": {
   "display_name": "Python 3",
   "language": "python",
   "name": "python3"
  },
  "language_info": {
   "codemirror_mode": {
    "name": "ipython",
    "version": 3
   },
   "file_extension": ".py",
   "mimetype": "text/x-python",
   "name": "python",
   "nbconvert_exporter": "python",
   "pygments_lexer": "ipython3",
   "version": "3.12.10"
  }
 },
 "nbformat": 4,
 "nbformat_minor": 2
}
